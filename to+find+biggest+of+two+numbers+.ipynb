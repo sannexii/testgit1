{
 "cells": [
  {
   "cell_type": "code",
   "execution_count": 2,
   "metadata": {
    "collapsed": false
   },
   "outputs": [
    {
     "name": "stdout",
     "output_type": "stream",
     "text": [
      "Enter your first number, any number:  14\n",
      "You entered:  14.0\n",
      "Enter your second number, any number:  16\n",
      "You entered:  16.0\n",
      "The larger of the two numbers is: 16.0 \n"
     ]
    }
   ],
   "source": [
    "def max(numOne, numTwo):\n",
    "    if numOne>numTwo:\n",
    "        return numOne;\n",
    "    else:\n",
    "        return numTwo;\n",
    "\n",
    "numOne = float(input(\"Enter your first number, any number:  \"))\n",
    "print(\"You entered:  {}\".format(numOne))\n",
    "numTwo = float(input(\"Enter your second number, any number:  \"))\n",
    "print(\"You entered:  {}\".format(numTwo))\n",
    "\n",
    "print(\"The larger of the two numbers is: {} \".format(max(numOne,numTwo)))"
   ]
  },
  {
   "cell_type": "code",
   "execution_count": null,
   "metadata": {
    "collapsed": true
   },
   "outputs": [],
   "source": []
  }
 ],
 "metadata": {
  "anaconda-cloud": {},
  "kernelspec": {
   "display_name": "Python [default]",
   "language": "python",
   "name": "python2"
  },
  "language_info": {
   "codemirror_mode": {
    "name": "ipython",
    "version": 2
   },
   "file_extension": ".py",
   "mimetype": "text/x-python",
   "name": "python",
   "nbconvert_exporter": "python",
   "pygments_lexer": "ipython2",
   "version": "2.7.12"
  }
 },
 "nbformat": 4,
 "nbformat_minor": 1
}
