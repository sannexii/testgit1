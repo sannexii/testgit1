{
 "cells": [
  {
   "cell_type": "code",
   "execution_count": 1,
   "metadata": {
    "collapsed": false
   },
   "outputs": [
    {
     "name": "stdout",
     "output_type": "stream",
     "text": [
      "30\n"
     ]
    }
   ],
   "source": [
    "a=10\n",
    "b=20\n",
    "print a+b #add two integers"
   ]
  },
  {
   "cell_type": "code",
   "execution_count": 2,
   "metadata": {
    "collapsed": false
   },
   "outputs": [
    {
     "name": "stdout",
     "output_type": "stream",
     "text": [
      "False\n"
     ]
    }
   ],
   "source": [
    "print a>b # displays true or false based on values of a and b "
   ]
  },
  {
   "cell_type": "code",
   "execution_count": 3,
   "metadata": {
    "collapsed": false
   },
   "outputs": [
    {
     "name": "stdout",
     "output_type": "stream",
     "text": [
      "True\n"
     ]
    }
   ],
   "source": [
    "print a<b"
   ]
  },
  {
   "cell_type": "code",
   "execution_count": 4,
   "metadata": {
    "collapsed": false
   },
   "outputs": [
    {
     "name": "stdout",
     "output_type": "stream",
     "text": [
      "True\n"
     ]
    }
   ],
   "source": [
    "print a<=b"
   ]
  },
  {
   "cell_type": "code",
   "execution_count": 5,
   "metadata": {
    "collapsed": false
   },
   "outputs": [
    {
     "name": "stdout",
     "output_type": "stream",
     "text": [
      "False\n"
     ]
    }
   ],
   "source": [
    "print a>=b"
   ]
  },
  {
   "cell_type": "code",
   "execution_count": 6,
   "metadata": {
    "collapsed": false
   },
   "outputs": [
    {
     "name": "stdout",
     "output_type": "stream",
     "text": [
      "False\n"
     ]
    }
   ],
   "source": [
    "print a==b"
   ]
  },
  {
   "cell_type": "code",
   "execution_count": 7,
   "metadata": {
    "collapsed": false
   },
   "outputs": [
    {
     "name": "stdout",
     "output_type": "stream",
     "text": [
      "False\n"
     ]
    }
   ],
   "source": [
    "print a is b"
   ]
  },
  {
   "cell_type": "code",
   "execution_count": 8,
   "metadata": {
    "collapsed": false
   },
   "outputs": [
    {
     "name": "stdout",
     "output_type": "stream",
     "text": [
      "True\n"
     ]
    }
   ],
   "source": [
    "print \"sub\" in \"actual substring\""
   ]
  },
  {
   "cell_type": "code",
   "execution_count": 9,
   "metadata": {
    "collapsed": true
   },
   "outputs": [],
   "source": [
    "a=10\n",
    "b=a"
   ]
  },
  {
   "cell_type": "code",
   "execution_count": 10,
   "metadata": {
    "collapsed": false
   },
   "outputs": [
    {
     "data": {
      "text/plain": [
       "True"
      ]
     },
     "execution_count": 10,
     "metadata": {},
     "output_type": "execute_result"
    }
   ],
   "source": [
    "a==b"
   ]
  },
  {
   "cell_type": "code",
   "execution_count": 11,
   "metadata": {
    "collapsed": false
   },
   "outputs": [
    {
     "data": {
      "text/plain": [
       "True"
      ]
     },
     "execution_count": 11,
     "metadata": {},
     "output_type": "execute_result"
    }
   ],
   "source": [
    "a is b"
   ]
  },
  {
   "cell_type": "code",
   "execution_count": 12,
   "metadata": {
    "collapsed": true
   },
   "outputs": [],
   "source": [
    "a=10\n",
    "b=10"
   ]
  },
  {
   "cell_type": "code",
   "execution_count": 13,
   "metadata": {
    "collapsed": false
   },
   "outputs": [
    {
     "data": {
      "text/plain": [
       "True"
      ]
     },
     "execution_count": 13,
     "metadata": {},
     "output_type": "execute_result"
    }
   ],
   "source": [
    "a is b"
   ]
  },
  {
   "cell_type": "code",
   "execution_count": 14,
   "metadata": {
    "collapsed": true
   },
   "outputs": [],
   "source": [
    "l1=[1,2,3,4]\n",
    "l2=[1,2,3,4]"
   ]
  },
  {
   "cell_type": "code",
   "execution_count": 15,
   "metadata": {
    "collapsed": false
   },
   "outputs": [
    {
     "data": {
      "text/plain": [
       "True"
      ]
     },
     "execution_count": 15,
     "metadata": {},
     "output_type": "execute_result"
    }
   ],
   "source": [
    "l1 == l2"
   ]
  },
  {
   "cell_type": "code",
   "execution_count": 16,
   "metadata": {
    "collapsed": false
   },
   "outputs": [
    {
     "data": {
      "text/plain": [
       "False"
      ]
     },
     "execution_count": 16,
     "metadata": {},
     "output_type": "execute_result"
    }
   ],
   "source": [
    "l1 is l2"
   ]
  },
  {
   "cell_type": "code",
   "execution_count": 17,
   "metadata": {
    "collapsed": false
   },
   "outputs": [
    {
     "name": "stdout",
     "output_type": "stream",
     "text": [
      "140\n",
      "c= return value\n"
     ]
    }
   ],
   "source": [
    "def fun(a,b):\n",
    "    a=10+a\n",
    "    b=100+b\n",
    "    print a+b\n",
    "    return \"return value\"  \n",
    "c=fun(10,20)\n",
    "print \"c=\",c  # prints the print statemnt of fun and the print statemnet at the end"
   ]
  },
  {
   "cell_type": "code",
   "execution_count": 18,
   "metadata": {
    "collapsed": false
   },
   "outputs": [
    {
     "name": "stdout",
     "output_type": "stream",
     "text": [
      "c= 140\n"
     ]
    }
   ],
   "source": [
    "def fun(a,b):\n",
    "    a=10+a\n",
    "    b=100+b\n",
    "    return a+b\n",
    "c=fun(10,20)\n",
    "print \"c=\",c # prints the print statemnt and the value returned by c"
   ]
  },
  {
   "cell_type": "code",
   "execution_count": 19,
   "metadata": {
    "collapsed": true
   },
   "outputs": [],
   "source": [
    "c=bool(10>20)  "
   ]
  },
  {
   "cell_type": "code",
   "execution_count": 20,
   "metadata": {
    "collapsed": false
   },
   "outputs": [
    {
     "data": {
      "text/plain": [
       "False"
      ]
     },
     "execution_count": 20,
     "metadata": {},
     "output_type": "execute_result"
    }
   ],
   "source": [
    "c"
   ]
  },
  {
   "cell_type": "code",
   "execution_count": 21,
   "metadata": {
    "collapsed": true
   },
   "outputs": [],
   "source": [
    "a=10\n",
    "b=20"
   ]
  },
  {
   "cell_type": "code",
   "execution_count": 22,
   "metadata": {
    "collapsed": false
   },
   "outputs": [
    {
     "data": {
      "text/plain": [
       "False"
      ]
     },
     "execution_count": 22,
     "metadata": {},
     "output_type": "execute_result"
    }
   ],
   "source": [
    "10>\"2\""
   ]
  },
  {
   "cell_type": "code",
   "execution_count": 23,
   "metadata": {
    "collapsed": false
   },
   "outputs": [
    {
     "data": {
      "text/plain": [
       "True"
      ]
     },
     "execution_count": 23,
     "metadata": {},
     "output_type": "execute_result"
    }
   ],
   "source": [
    "\"1\">100"
   ]
  },
  {
   "cell_type": "code",
   "execution_count": 24,
   "metadata": {
    "collapsed": false
   },
   "outputs": [
    {
     "data": {
      "text/plain": [
       "True"
      ]
     },
     "execution_count": 24,
     "metadata": {},
     "output_type": "execute_result"
    }
   ],
   "source": [
    "\"12\"<\"2\""
   ]
  },
  {
   "cell_type": "code",
   "execution_count": 25,
   "metadata": {
    "collapsed": false
   },
   "outputs": [
    {
     "data": {
      "text/plain": [
       "('12', '2', '012', '1000')"
      ]
     },
     "execution_count": 25,
     "metadata": {},
     "output_type": "execute_result"
    }
   ],
   "source": [
    "\"12\", \"2\",\"012\",\"1000\""
   ]
  },
  {
   "cell_type": "code",
   "execution_count": 26,
   "metadata": {
    "collapsed": false
   },
   "outputs": [
    {
     "data": {
      "text/plain": [
       "False"
      ]
     },
     "execution_count": 26,
     "metadata": {},
     "output_type": "execute_result"
    }
   ],
   "source": [
    "bool(0) # prints the boolean value of 0"
   ]
  },
  {
   "cell_type": "code",
   "execution_count": 27,
   "metadata": {
    "collapsed": false
   },
   "outputs": [
    {
     "data": {
      "text/plain": [
       "False"
      ]
     },
     "execution_count": 27,
     "metadata": {},
     "output_type": "execute_result"
    }
   ],
   "source": [
    "bool(10>20)"
   ]
  },
  {
   "cell_type": "code",
   "execution_count": 28,
   "metadata": {
    "collapsed": false
   },
   "outputs": [
    {
     "data": {
      "text/plain": [
       "False"
      ]
     },
     "execution_count": 28,
     "metadata": {},
     "output_type": "execute_result"
    }
   ],
   "source": [
    "bool(0)"
   ]
  },
  {
   "cell_type": "code",
   "execution_count": 29,
   "metadata": {
    "collapsed": false
   },
   "outputs": [
    {
     "data": {
      "text/plain": [
       "True"
      ]
     },
     "execution_count": 29,
     "metadata": {},
     "output_type": "execute_result"
    }
   ],
   "source": [
    "bool(-10)"
   ]
  },
  {
   "cell_type": "code",
   "execution_count": 30,
   "metadata": {
    "collapsed": false
   },
   "outputs": [
    {
     "data": {
      "text/plain": [
       "True"
      ]
     },
     "execution_count": 30,
     "metadata": {},
     "output_type": "execute_result"
    }
   ],
   "source": [
    "bool(10)"
   ]
  },
  {
   "cell_type": "code",
   "execution_count": 31,
   "metadata": {
    "collapsed": false
   },
   "outputs": [
    {
     "data": {
      "text/plain": [
       "True"
      ]
     },
     "execution_count": 31,
     "metadata": {},
     "output_type": "execute_result"
    }
   ],
   "source": [
    "bool(\"python\")"
   ]
  },
  {
   "cell_type": "code",
   "execution_count": 32,
   "metadata": {
    "collapsed": false
   },
   "outputs": [
    {
     "data": {
      "text/plain": [
       "False"
      ]
     },
     "execution_count": 32,
     "metadata": {},
     "output_type": "execute_result"
    }
   ],
   "source": [
    "bool(\"\")"
   ]
  },
  {
   "cell_type": "code",
   "execution_count": 33,
   "metadata": {
    "collapsed": false
   },
   "outputs": [
    {
     "data": {
      "text/plain": [
       "True"
      ]
     },
     "execution_count": 33,
     "metadata": {},
     "output_type": "execute_result"
    }
   ],
   "source": [
    "bool(\"0\")"
   ]
  },
  {
   "cell_type": "code",
   "execution_count": 34,
   "metadata": {
    "collapsed": false
   },
   "outputs": [
    {
     "data": {
      "text/plain": [
       "True"
      ]
     },
     "execution_count": 34,
     "metadata": {},
     "output_type": "execute_result"
    }
   ],
   "source": [
    "10<20 and 1<2 # follows the and table"
   ]
  },
  {
   "cell_type": "code",
   "execution_count": 35,
   "metadata": {
    "collapsed": false
   },
   "outputs": [
    {
     "data": {
      "text/plain": [
       "False"
      ]
     },
     "execution_count": 35,
     "metadata": {},
     "output_type": "execute_result"
    }
   ],
   "source": [
    "\n",
    "10<20 and 1>2  # follows the and table"
   ]
  },
  {
   "cell_type": "code",
   "execution_count": 37,
   "metadata": {
    "collapsed": false
   },
   "outputs": [
    {
     "data": {
      "text/plain": [
       "True"
      ]
     },
     "execution_count": 37,
     "metadata": {},
     "output_type": "execute_result"
    }
   ],
   "source": [
    "10<20 or 1>2   # follows the or table"
   ]
  },
  {
   "cell_type": "code",
   "execution_count": 38,
   "metadata": {
    "collapsed": true
   },
   "outputs": [],
   "source": [
    "# if if else if else if"
   ]
  },
  {
   "cell_type": "code",
   "execution_count": 39,
   "metadata": {
    "collapsed": false
   },
   "outputs": [
    {
     "name": "stdout",
     "output_type": "stream",
     "text": [
      "program strted\n",
      "else block started\n",
      "10>20 is False\n",
      "end of else block\n",
      "other sttements in program\n",
      "program ended\n"
     ]
    }
   ],
   "source": [
    "print \"program strted\"\n",
    "if 10>20:\n",
    "    print \"if block started\"\n",
    "    print \"10>20 is True\"\n",
    "    print \"if block ended\"\n",
    "else:\n",
    "    print \"else block started\"\n",
    "    print \"10>20 is False\"\n",
    "    print \"end of else block\"\n",
    "\n",
    "print \"other sttements in program\"\n",
    "print \"program ended\"  #executes the else statements and the statemnts outside the if else loop"
   ]
  },
  {
   "cell_type": "code",
   "execution_count": 40,
   "metadata": {
    "collapsed": false
   },
   "outputs": [
    {
     "name": "stdout",
     "output_type": "stream",
     "text": [
      "Menu:\n",
      "1. Windows\n",
      "2. Linux\n",
      "3. Mac\n"
     ]
    }
   ],
   "source": [
    "'''\n",
    "Menu:\n",
    "1. windows\n",
    "2. Linux\n",
    "3. Mac\n",
    "'''\n",
    "print \"Menu:\\n1. Windows\\n2. Linux\\n3. Mac\"   # prints in new lines"
   ]
  },
  {
   "cell_type": "code",
   "execution_count": 41,
   "metadata": {
    "collapsed": false
   },
   "outputs": [
    {
     "name": "stdout",
     "output_type": "stream",
     "text": [
      "Menu:\n",
      "1. Windows\n",
      "2. Linux\n",
      "3. Mac\n",
      "Enter an option: 1\n"
     ]
    }
   ],
   "source": [
    "'''\n",
    "Menu:\n",
    "1. windows\n",
    "2. Linux\n",
    "3. Mac\n",
    "'''\n",
    "print \"Menu:\\n1. Windows\\n2. Linux\\n3. Mac\"\n",
    "opt = raw_input(\"Enter an option: \")   # prints in new lines and takes input\n"
   ]
  },
  {
   "cell_type": "code",
   "execution_count": 42,
   "metadata": {
    "collapsed": false
   },
   "outputs": [
    {
     "data": {
      "text/plain": [
       "'1'"
      ]
     },
     "execution_count": 42,
     "metadata": {},
     "output_type": "execute_result"
    }
   ],
   "source": [
    "opt"
   ]
  },
  {
   "cell_type": "code",
   "execution_count": 44,
   "metadata": {
    "collapsed": false
   },
   "outputs": [
    {
     "name": "stdout",
     "output_type": "stream",
     "text": [
      "program started\n",
      "Menu:\n",
      "1. Windows\n",
      "2. Linux\n",
      "3. Mac\n",
      "Enter an option: 1\n",
      "windows selected\n",
      "other statements in program\n",
      "program ended\n"
     ]
    }
   ],
   "source": [
    "'''\n",
    "Menu:\n",
    "1. windows\n",
    "2. Linux\n",
    "3. Mac\n",
    "'''\n",
    "print \"program started\"\n",
    "print \"Menu:\\n1. Windows\\n2. Linux\\n3. Mac\"\n",
    "opt = raw_input(\"Enter an option: \")\n",
    "\n",
    "if opt == \"1\":\n",
    "    print \"windows selected\"\n",
    "if opt == \"2\":\n",
    "    print \"Linux selected\"\n",
    "if opt ==\"3\":\n",
    "    print \"Mac selected\"\n",
    "    \n",
    "\n",
    "print \"other statements in program\"\n",
    "print \"program ended\" # based on input executes the loop"
   ]
  },
  {
   "cell_type": "code",
   "execution_count": 45,
   "metadata": {
    "collapsed": false
   },
   "outputs": [
    {
     "name": "stdout",
     "output_type": "stream",
     "text": [
      "program started\n",
      "Menu:\n",
      "1. Windows\n",
      "2. Linux\n",
      "3. Mac\n",
      "Enter an option: 2\n",
      "Linux selected\n",
      "other statements in program\n",
      "program ended\n"
     ]
    }
   ],
   "source": [
    "'''\n",
    "Menu:\n",
    "1. windows\n",
    "2. Linux\n",
    "3. Mac\n",
    "'''\n",
    "print \"program started\"\n",
    "print \"Menu:\\n1. Windows\\n2. Linux\\n3. Mac\"\n",
    "opt = raw_input(\"Enter an option: \")\n",
    "\n",
    "if opt == \"1\":\n",
    "    print \"windows selected\"\n",
    "if opt == \"2\":\n",
    "    print \"Linux selected\"\n",
    "if opt ==\"3\":\n",
    "    print \"Mac selected\"\n",
    "    \n",
    "\n",
    "print \"other statements in program\"\n",
    "print \"program ended\""
   ]
  },
  {
   "cell_type": "code",
   "execution_count": 46,
   "metadata": {
    "collapsed": false
   },
   "outputs": [
    {
     "name": "stdout",
     "output_type": "stream",
     "text": [
      "program started\n",
      "Menu:\n",
      "1. Windows\n",
      "2. Linux\n",
      "3. Mac\n",
      "Enter an option: 3\n",
      "Mac selected\n",
      "other statements in program\n",
      "program ended\n"
     ]
    }
   ],
   "source": [
    "'''\n",
    "Menu:\n",
    "1. windows\n",
    "2. Linux\n",
    "3. Mac\n",
    "'''\n",
    "print \"program started\"\n",
    "print \"Menu:\\n1. Windows\\n2. Linux\\n3. Mac\"\n",
    "opt = raw_input(\"Enter an option: \")\n",
    "\n",
    "if opt == \"1\":\n",
    "    print \"windows selected\"\n",
    "if opt == \"2\":\n",
    "    print \"Linux selected\"\n",
    "if opt ==\"3\":\n",
    "    print \"Mac selected\"\n",
    "    \n",
    "\n",
    "print \"other statements in program\"\n",
    "print \"program ended\""
   ]
  },
  {
   "cell_type": "code",
   "execution_count": 47,
   "metadata": {
    "collapsed": false
   },
   "outputs": [
    {
     "name": "stdout",
     "output_type": "stream",
     "text": [
      "program started\n",
      "Menu:\n",
      "1. Windows\n",
      "2. Linux\n",
      "3. Mac\n",
      "Enter an option: 4\n",
      "other statements in program\n",
      "program ended\n"
     ]
    }
   ],
   "source": [
    "'''\n",
    "Menu:\n",
    "1. windows\n",
    "2. Linux\n",
    "3. Mac\n",
    "'''\n",
    "print \"program started\"\n",
    "print \"Menu:\\n1. Windows\\n2. Linux\\n3. Mac\"\n",
    "opt = raw_input(\"Enter an option: \")\n",
    "\n",
    "if opt == \"1\":\n",
    "    print \"windows selected\"\n",
    "if opt == \"2\":\n",
    "    print \"Linux selected\"\n",
    "if opt ==\"3\":\n",
    "    print \"Mac selected\"\n",
    "    \n",
    "\n",
    "print \"other statements in program\"\n",
    "print \"program ended\""
   ]
  },
  {
   "cell_type": "code",
   "execution_count": 48,
   "metadata": {
    "collapsed": false
   },
   "outputs": [
    {
     "name": "stdout",
     "output_type": "stream",
     "text": [
      "program started\n",
      "Menu:\n",
      "1. Windows\n",
      "2. Linux\n",
      "3. Mac\n",
      "Enter an option: 2\n",
      "Linux selected\n",
      "wrong option selected\n",
      "other statements in program\n",
      "program ended\n"
     ]
    }
   ],
   "source": [
    "'''\n",
    "Menu:\n",
    "1. windows\n",
    "2. Linux\n",
    "3. Mac\n",
    "'''\n",
    "print \"program started\"\n",
    "print \"Menu:\\n1. Windows\\n2. Linux\\n3. Mac\"\n",
    "opt = raw_input(\"Enter an option: \")\n",
    "\n",
    "if opt == \"1\":\n",
    "    print \"windows selected\"\n",
    "if opt == \"2\":\n",
    "    print \"Linux selected\"\n",
    "if opt ==\"3\":\n",
    "    print \"Mac selected\"\n",
    "else:\n",
    "    print \"wrong option selected\"\n",
    "    \n",
    "\n",
    "print \"other statements in program\"\n",
    "print \"program ended\""
   ]
  },
  {
   "cell_type": "code",
   "execution_count": 49,
   "metadata": {
    "collapsed": false
   },
   "outputs": [
    {
     "name": "stdout",
     "output_type": "stream",
     "text": [
      "program started\n",
      "Menu:\n",
      "1. Windows\n",
      "2. Linux\n",
      "3. Mac\n",
      "Enter an option: 2\n",
      "Linux selected\n",
      "other statements in program\n",
      "program ended\n"
     ]
    }
   ],
   "source": [
    "'''\n",
    "Menu:\n",
    "1. windows\n",
    "2. Linux\n",
    "3. Mac\n",
    "'''\n",
    "print \"program started\"\n",
    "print \"Menu:\\n1. Windows\\n2. Linux\\n3. Mac\"\n",
    "opt = raw_input(\"Enter an option: \")\n",
    "\n",
    "if opt == \"1\":\n",
    "    print \"windows selected\"\n",
    "elif opt == \"2\":\n",
    "    print \"Linux selected\"\n",
    "elif opt ==\"3\":\n",
    "    print \"Mac selected\"\n",
    "else:\n",
    "    print \"wrong option selected\"\n",
    "    \n",
    "\n",
    "print \"other statements in program\"\n",
    "print \"program ended\""
   ]
  },
  {
   "cell_type": "code",
   "execution_count": 50,
   "metadata": {
    "collapsed": false
   },
   "outputs": [
    {
     "name": "stdout",
     "output_type": "stream",
     "text": [
      "program started\n",
      "Menu:\n",
      "1. Windows\n",
      "2. Linux\n",
      "3. Mac\n",
      "Enter an option: 4\n",
      "wrong option selected\n",
      "other statements in program\n",
      "program ended\n"
     ]
    }
   ],
   "source": [
    "'''\n",
    "Menu:\n",
    "1. windows\n",
    "2. Linux\n",
    "3. Mac\n",
    "'''\n",
    "print \"program started\"\n",
    "print \"Menu:\\n1. Windows\\n2. Linux\\n3. Mac\"\n",
    "opt = raw_input(\"Enter an option: \")\n",
    "\n",
    "if opt == \"1\":\n",
    "    print \"windows selected\"\n",
    "elif opt == \"2\":\n",
    "    print \"Linux selected\"\n",
    "elif opt ==\"3\":\n",
    "    print \"Mac selected\"\n",
    "else:\n",
    "    print \"wrong option selected\"\n",
    "    \n",
    "\n",
    "print \"other statements in program\"\n",
    "print \"program ended\""
   ]
  },
  {
   "cell_type": "code",
   "execution_count": 51,
   "metadata": {
    "collapsed": true
   },
   "outputs": [],
   "source": [
    "#looping statements\n",
    "# for while"
   ]
  },
  {
   "cell_type": "code",
   "execution_count": null,
   "metadata": {
    "collapsed": true
   },
   "outputs": [],
   "source": [
    "print \"program started\"\n",
    "i=0\n",
    "while i<10:\n",
    "    print \"iteration started\"\n",
    "    print i\n",
    "    print \"iteration ended\"\n",
    "\n",
    "print \"other statements in program\"\n",
    "print \"program ended\""
   ]
  },
  {
   "cell_type": "code",
   "execution_count": 52,
   "metadata": {
    "collapsed": false
   },
   "outputs": [
    {
     "name": "stdout",
     "output_type": "stream",
     "text": [
      "program started\n",
      "iteration started\n",
      "0\n",
      "iteration ended\n",
      "iteration started\n",
      "1\n",
      "iteration ended\n",
      "iteration started\n",
      "2\n",
      "iteration ended\n",
      "other statements in program\n",
      "program ended\n"
     ]
    }
   ],
   "source": [
    "print \"program started\"\n",
    "i=0\n",
    "while i<3:\n",
    "    print \"iteration started\"\n",
    "    print i\n",
    "    i=i+1\n",
    "    print \"iteration ended\"\n",
    "\n",
    "print \"other statements in program\"\n",
    "print \"program ended\""
   ]
  },
  {
   "cell_type": "code",
   "execution_count": 53,
   "metadata": {
    "collapsed": false
   },
   "outputs": [
    {
     "name": "stdout",
     "output_type": "stream",
     "text": [
      "program started\n",
      "iteration started\n",
      "a\n",
      "iteration ended\n",
      "iteration started\n",
      "b\n",
      "iteration ended\n",
      "iteration started\n",
      "c\n",
      "iteration ended\n",
      "other statements in program\n",
      "program ended\n"
     ]
    }
   ],
   "source": [
    "print \"program started\"\n",
    "for i in \"abc\":\n",
    "    print \"iteration started\"\n",
    "    print i\n",
    "    print \"iteration ended\"\n",
    "\n",
    "print \"other statements in program\"\n",
    "print \"program ended\""
   ]
  },
  {
   "cell_type": "code",
   "execution_count": 54,
   "metadata": {
    "collapsed": true
   },
   "outputs": [],
   "source": [
    "# looping control statements: break continue"
   ]
  },
  {
   "cell_type": "code",
   "execution_count": 55,
   "metadata": {
    "collapsed": false
   },
   "outputs": [
    {
     "name": "stdout",
     "output_type": "stream",
     "text": [
      "program started\n",
      "Enter sequence to iterate: python\n",
      "iteration started\n",
      "p\n",
      "iteration ended\n",
      "iteration started\n",
      "y\n",
      "iteration ended\n",
      "iteration started\n",
      "t\n",
      "iteration ended\n",
      "iteration started\n",
      "h\n",
      "iteration ended\n",
      "iteration started\n",
      "o\n",
      "iteration ended\n",
      "iteration started\n",
      "n\n",
      "iteration ended\n",
      "other statements in program\n",
      "program ended\n"
     ]
    }
   ],
   "source": [
    "print \"program started\"\n",
    "s=raw_input(\"Enter sequence to iterate: \")\n",
    "for i in s:\n",
    "    print \"iteration started\"\n",
    "    print i\n",
    "    print \"iteration ended\"\n",
    "\n",
    "print \"other statements in program\"\n",
    "print \"program ended\""
   ]
  },
  {
   "cell_type": "code",
   "execution_count": 56,
   "metadata": {
    "collapsed": false
   },
   "outputs": [
    {
     "name": "stdout",
     "output_type": "stream",
     "text": [
      "program started\n",
      "Enter sequence to iterate: abc def\n",
      "iteration started\n",
      "a\n",
      "iteration ended\n",
      "iteration started\n",
      "b\n",
      "iteration ended\n",
      "iteration started\n",
      "c\n",
      "iteration ended\n",
      "iteration started\n",
      " \n",
      "other statements in program\n",
      "program ended\n"
     ]
    }
   ],
   "source": [
    "print \"program started\"\n",
    "s=raw_input(\"Enter sequence to iterate: \")\n",
    "for i in s:\n",
    "    print \"iteration started\"\n",
    "    print i\n",
    "    if i == \" \":\n",
    "        break\n",
    "    print \"iteration ended\"\n",
    "\n",
    "print \"other statements in program\"\n",
    "print \"program ended\""
   ]
  },
  {
   "cell_type": "code",
   "execution_count": 57,
   "metadata": {
    "collapsed": false
   },
   "outputs": [
    {
     "name": "stdout",
     "output_type": "stream",
     "text": [
      "program started\n",
      "Enter sequence to iterate: abc def\n",
      "iteration started\n",
      "a\n",
      "iteration ended\n",
      "iteration started\n",
      "b\n",
      "iteration ended\n",
      "iteration started\n",
      "c\n",
      "iteration ended\n",
      "iteration started\n",
      "other statements in program\n",
      "program ended\n"
     ]
    }
   ],
   "source": [
    "print \"program started\"\n",
    "s=raw_input(\"Enter sequence to iterate: \")\n",
    "for i in s:\n",
    "    print \"iteration started\"\n",
    "    if i == \" \":\n",
    "        break\n",
    "    print i\n",
    "    print \"iteration ended\"\n",
    "\n",
    "print \"other statements in program\"\n",
    "print \"program ended\""
   ]
  },
  {
   "cell_type": "code",
   "execution_count": 59,
   "metadata": {
    "collapsed": false
   },
   "outputs": [
    {
     "name": "stdout",
     "output_type": "stream",
     "text": [
      "program started\n",
      "Enter sequence to iterate: abc def\n",
      "iteration started\n",
      "a\n",
      "iteration ended\n",
      "iteration started\n",
      "b\n",
      "iteration ended\n",
      "iteration started\n",
      "c\n",
      "iteration ended\n",
      "iteration started\n",
      " \n",
      "iteration ended\n",
      "iteration started\n",
      "d\n",
      "iteration ended\n",
      "iteration started\n",
      "e\n",
      "iteration ended\n",
      "iteration started\n",
      "f\n",
      "iteration ended\n",
      "other statements in program\n",
      "program ended\n"
     ]
    }
   ],
   "source": [
    "print \"program started\"\n",
    "s=raw_input(\"Enter sequence to iterate: \")\n",
    "for i in s:\n",
    "    print \"iteration started\"\n",
    "    print i\n",
    "    print \"iteration ended\"\n",
    "    continue\n",
    "\n",
    "print \"other statements in program\"\n",
    "print \"program ended\""
   ]
  },
  {
   "cell_type": "code",
   "execution_count": 60,
   "metadata": {
    "collapsed": false
   },
   "outputs": [
    {
     "name": "stdout",
     "output_type": "stream",
     "text": [
      "program started\n",
      "Enter sequence to iterate: a b c\n",
      "iteration started\n",
      "a\n",
      "iteration ended\n",
      "iteration started\n",
      "iteration started\n",
      "b\n",
      "iteration ended\n",
      "iteration started\n",
      "iteration started\n",
      "c\n",
      "iteration ended\n",
      "other statements in program\n",
      "program ended\n"
     ]
    }
   ],
   "source": [
    "print \"program started\"\n",
    "s=raw_input(\"Enter sequence to iterate: \")\n",
    "for i in s:\n",
    "    print \"iteration started\"\n",
    "    if i== \" \":\n",
    "        continue\n",
    "    print i\n",
    "    print \"iteration ended\"\n",
    "print \"other statements in program\"\n",
    "print \"program ended\""
   ]
  },
  {
   "cell_type": "code",
   "execution_count": 61,
   "metadata": {
    "collapsed": false
   },
   "outputs": [
    {
     "name": "stdout",
     "output_type": "stream",
     "text": [
      "program started\n",
      "Enter sequence to iterate: a b c\n",
      "iteration started\n",
      "a\n",
      "iteration ended\n",
      "iteration started\n",
      " \n",
      "iteration ended\n",
      "iteration started\n",
      "b\n",
      "iteration ended\n",
      "iteration started\n",
      " \n",
      "iteration ended\n",
      "iteration started\n",
      "c\n",
      "iteration ended\n",
      "other statements in program\n",
      "program ended\n"
     ]
    }
   ],
   "source": [
    "print \"program started\"\n",
    "s=raw_input(\"Enter sequence to iterate: \")\n",
    "for i in s:\n",
    "    print \"iteration started\"\n",
    "    print i\n",
    "    print \"iteration ended\"\n",
    "print \"other statements in program\"\n",
    "print \"program ended\""
   ]
  },
  {
   "cell_type": "code",
   "execution_count": 62,
   "metadata": {
    "collapsed": false
   },
   "outputs": [
    {
     "name": "stdout",
     "output_type": "stream",
     "text": [
      "m\n"
     ]
    }
   ],
   "source": [
    "for i in \"python program\":\n",
    "    continue  \n",
    "print i    # loop executes till m"
   ]
  },
  {
   "cell_type": "code",
   "execution_count": 63,
   "metadata": {
    "collapsed": false
   },
   "outputs": [
    {
     "name": "stdout",
     "output_type": "stream",
     "text": [
      "p\n"
     ]
    }
   ],
   "source": [
    "for i in \"python program\":\n",
    "    break\n",
    "print i  # loop executes only once"
   ]
  },
  {
   "cell_type": "code",
   "execution_count": 64,
   "metadata": {
    "collapsed": false
   },
   "outputs": [
    {
     "name": "stdout",
     "output_type": "stream",
     "text": [
      "1\n"
     ]
    }
   ],
   "source": [
    "i=0\n",
    "while i<10:\n",
    "    i=i+1\n",
    "    break\n",
    "print i   # loop executes only onc as the condition satisfied first time"
   ]
  },
  {
   "cell_type": "code",
   "execution_count": 65,
   "metadata": {
    "collapsed": false
   },
   "outputs": [
    {
     "name": "stdout",
     "output_type": "stream",
     "text": [
      "10\n"
     ]
    }
   ],
   "source": [
    "i=0\n",
    "while i<10:\n",
    "    i=i+1\n",
    "    continue\n",
    "print i  # loop executes till 9"
   ]
  },
  {
   "cell_type": "code",
   "execution_count": 66,
   "metadata": {
    "collapsed": false
   },
   "outputs": [
    {
     "data": {
      "text/plain": [
       "False"
      ]
     },
     "execution_count": 66,
     "metadata": {},
     "output_type": "execute_result"
    }
   ],
   "source": [
    "\"abc\".isupper() # checks for letters in upper case"
   ]
  },
  {
   "cell_type": "code",
   "execution_count": 67,
   "metadata": {
    "collapsed": false
   },
   "outputs": [
    {
     "data": {
      "text/plain": [
       "False"
      ]
     },
     "execution_count": 67,
     "metadata": {},
     "output_type": "execute_result"
    }
   ],
   "source": [
    "\"Abc\".isupper()"
   ]
  },
  {
   "cell_type": "code",
   "execution_count": 68,
   "metadata": {
    "collapsed": false
   },
   "outputs": [
    {
     "data": {
      "text/plain": [
       "True"
      ]
     },
     "execution_count": 68,
     "metadata": {},
     "output_type": "execute_result"
    }
   ],
   "source": [
    "\"ABC\".isupper()"
   ]
  },
  {
   "cell_type": "code",
   "execution_count": 69,
   "metadata": {
    "collapsed": false
   },
   "outputs": [
    {
     "data": {
      "text/plain": [
       "True"
      ]
     },
     "execution_count": 69,
     "metadata": {},
     "output_type": "execute_result"
    }
   ],
   "source": [
    "\"123ABC\".isupper()"
   ]
  },
  {
   "cell_type": "code",
   "execution_count": 70,
   "metadata": {
    "collapsed": false
   },
   "outputs": [
    {
     "data": {
      "text/plain": [
       "False"
      ]
     },
     "execution_count": 70,
     "metadata": {},
     "output_type": "execute_result"
    }
   ],
   "source": [
    "\"123Abca\".isupper()"
   ]
  },
  {
   "cell_type": "code",
   "execution_count": 71,
   "metadata": {
    "collapsed": false
   },
   "outputs": [
    {
     "data": {
      "text/plain": [
       "False"
      ]
     },
     "execution_count": 71,
     "metadata": {},
     "output_type": "execute_result"
    }
   ],
   "source": [
    "\"123\".isupper()"
   ]
  },
  {
   "cell_type": "code",
   "execution_count": 72,
   "metadata": {
    "collapsed": false
   },
   "outputs": [
    {
     "data": {
      "text/plain": [
       "False"
      ]
     },
     "execution_count": 72,
     "metadata": {},
     "output_type": "execute_result"
    }
   ],
   "source": [
    "\"\".isupper()"
   ]
  },
  {
   "cell_type": "code",
   "execution_count": 73,
   "metadata": {
    "collapsed": false
   },
   "outputs": [
    {
     "data": {
      "text/plain": [
       "False"
      ]
     },
     "execution_count": 73,
     "metadata": {},
     "output_type": "execute_result"
    }
   ],
   "source": [
    "\"#$%\".isupper()"
   ]
  },
  {
   "cell_type": "code",
   "execution_count": 74,
   "metadata": {
    "collapsed": false
   },
   "outputs": [
    {
     "data": {
      "text/plain": [
       "True"
      ]
     },
     "execution_count": 74,
     "metadata": {},
     "output_type": "execute_result"
    }
   ],
   "source": [
    "\"#$%ABC\".isupper()"
   ]
  },
  {
   "cell_type": "code",
   "execution_count": 75,
   "metadata": {
    "collapsed": false
   },
   "outputs": [
    {
     "name": "stdout",
     "output_type": "stream",
     "text": [
      "enter a string: Python program\n",
      "given string contains capital letters\n"
     ]
    }
   ],
   "source": [
    "s=raw_input(\"enter a string: \")\n",
    "for char in s:\n",
    "    if char.isupper():\n",
    "        print \"given string contains capital letters\"\n",
    "        break    # checks for upper case and breaks the loop\n",
    "        "
   ]
  },
  {
   "cell_type": "code",
   "execution_count": 76,
   "metadata": {
    "collapsed": true
   },
   "outputs": [],
   "source": [
    "s=\"python program\"\n"
   ]
  },
  {
   "cell_type": "code",
   "execution_count": 77,
   "metadata": {
    "collapsed": false
   },
   "outputs": [
    {
     "data": {
      "text/plain": [
       "'Python program'"
      ]
     },
     "execution_count": 77,
     "metadata": {},
     "output_type": "execute_result"
    }
   ],
   "source": [
    "s.capitalize()  # puts upper case at the beginning"
   ]
  },
  {
   "cell_type": "code",
   "execution_count": 78,
   "metadata": {
    "collapsed": false
   },
   "outputs": [
    {
     "name": "stdout",
     "output_type": "stream",
     "text": [
      "Pythonn program\n"
     ]
    }
   ],
   "source": [
    "s=\"pyTHONn proGRAM\"\n",
    "print s.capitalize()"
   ]
  },
  {
   "cell_type": "code",
   "execution_count": 79,
   "metadata": {
    "collapsed": false
   },
   "outputs": [
    {
     "data": {
      "text/plain": [
       "'pyTHONn proGRAM'"
      ]
     },
     "execution_count": 79,
     "metadata": {},
     "output_type": "execute_result"
    }
   ],
   "source": [
    "s"
   ]
  },
  {
   "cell_type": "code",
   "execution_count": 80,
   "metadata": {
    "collapsed": false
   },
   "outputs": [
    {
     "name": "stdout",
     "output_type": "stream",
     "text": [
      "0\n"
     ]
    }
   ],
   "source": [
    "s=\"python program\"\n",
    "print s.find(\"pyt\")"
   ]
  },
  {
   "cell_type": "code",
   "execution_count": 81,
   "metadata": {
    "collapsed": false
   },
   "outputs": [
    {
     "name": "stdout",
     "output_type": "stream",
     "text": [
      "10\n"
     ]
    }
   ],
   "source": [
    "s=\"python program\"\n",
    "print s.find(\"gram\")"
   ]
  },
  {
   "cell_type": "code",
   "execution_count": 82,
   "metadata": {
    "collapsed": false
   },
   "outputs": [
    {
     "name": "stdout",
     "output_type": "stream",
     "text": [
      "-1\n"
     ]
    }
   ],
   "source": [
    "s=\"python program\"\n",
    "print s.find(\"java\")"
   ]
  },
  {
   "cell_type": "code",
   "execution_count": 83,
   "metadata": {
    "collapsed": false
   },
   "outputs": [
    {
     "data": {
      "text/plain": [
       "-1"
      ]
     },
     "execution_count": 83,
     "metadata": {},
     "output_type": "execute_result"
    }
   ],
   "source": [
    "s.find(\"PYTHON\")"
   ]
  },
  {
   "cell_type": "code",
   "execution_count": 85,
   "metadata": {
    "collapsed": false
   },
   "outputs": [
    {
     "name": "stdout",
     "output_type": "stream",
     "text": [
      "0\n",
      "python program\n",
      "python\n"
     ]
    }
   ],
   "source": [
    "s=\"python program\"\n",
    "sub = \"PytHon\"\n",
    "\n",
    "s_l = s.lower()\n",
    "sub_l = sub.lower()\n",
    "print s_l.find(sub_l)\n",
    "print s_l\n",
    "print sub_l"
   ]
  },
  {
   "cell_type": "code",
   "execution_count": 86,
   "metadata": {
    "collapsed": false
   },
   "outputs": [
    {
     "data": {
      "text/plain": [
       "'python program'"
      ]
     },
     "execution_count": 86,
     "metadata": {},
     "output_type": "execute_result"
    }
   ],
   "source": [
    "s"
   ]
  },
  {
   "cell_type": "code",
   "execution_count": 87,
   "metadata": {
    "collapsed": false
   },
   "outputs": [
    {
     "data": {
      "text/plain": [
       "0"
      ]
     },
     "execution_count": 87,
     "metadata": {},
     "output_type": "execute_result"
    }
   ],
   "source": [
    "s.find('p')"
   ]
  },
  {
   "cell_type": "code",
   "execution_count": 88,
   "metadata": {
    "collapsed": true
   },
   "outputs": [],
   "source": [
    "s.find?"
   ]
  },
  {
   "cell_type": "code",
   "execution_count": 89,
   "metadata": {
    "collapsed": false
   },
   "outputs": [
    {
     "data": {
      "text/plain": [
       "7"
      ]
     },
     "execution_count": 89,
     "metadata": {},
     "output_type": "execute_result"
    }
   ],
   "source": [
    "s.find('p',3)"
   ]
  },
  {
   "cell_type": "code",
   "execution_count": null,
   "metadata": {
    "collapsed": true
   },
   "outputs": [],
   "source": []
  }
 ],
 "metadata": {
  "anaconda-cloud": {},
  "kernelspec": {
   "display_name": "Python [default]",
   "language": "python",
   "name": "python2"
  },
  "language_info": {
   "codemirror_mode": {
    "name": "ipython",
    "version": 2
   },
   "file_extension": ".py",
   "mimetype": "text/x-python",
   "name": "python",
   "nbconvert_exporter": "python",
   "pygments_lexer": "ipython2",
   "version": "2.7.12"
  }
 },
 "nbformat": 4,
 "nbformat_minor": 1
}
