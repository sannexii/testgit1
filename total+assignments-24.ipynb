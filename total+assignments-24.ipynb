{
 "cells": [
  {
   "cell_type": "code",
   "execution_count": 51,
   "metadata": {
    "collapsed": false
   },
   "outputs": [
    {
     "name": "stdout",
     "output_type": "stream",
     "text": [
      "True\n"
     ]
    }
   ],
   "source": [
    "# assign 2\n",
    "# 2. write a program to chek given substring is there in actual string or not? \n",
    "print \"sub\" in \"actual substring\""
   ]
  },
  {
   "cell_type": "code",
   "execution_count": 52,
   "metadata": {
    "collapsed": false
   },
   "outputs": [
    {
     "name": "stdout",
     "output_type": "stream",
     "text": [
      "False\n"
     ]
    }
   ],
   "source": [
    "print \"suB\" in \"actual substring\""
   ]
  },
  {
   "cell_type": "code",
   "execution_count": 4,
   "metadata": {
    "collapsed": false
   },
   "outputs": [
    {
     "name": "stdout",
     "output_type": "stream",
     "text": [
      "Enter a number: 24\n",
      "24 is Even\n"
     ]
    }
   ],
   "source": [
    "# asign 3\n",
    "#take a number from the user and check whether even or odd\n",
    "num = int(input(\"Enter a number: \"))\n",
    "if (num % 2) == 0:\n",
    "   print(\"{0} is Even\".format(num))\n",
    "else:\n",
    "   print(\"{0} is Odd\".format(num))"
   ]
  },
  {
   "cell_type": "code",
   "execution_count": 5,
   "metadata": {
    "collapsed": false
   },
   "outputs": [
    {
     "name": "stdout",
     "output_type": "stream",
     "text": [
      "Enter a number: 7\n",
      "(7, 'is a prime number')\n"
     ]
    }
   ],
   "source": [
    "#assign 4\n",
    "#4. take a number from the user and check whether it is prime?\n",
    "num = int(input(\"Enter a number: \"))\n",
    "if num > 1:\n",
    "   # check for factors\n",
    "   for i in range(2,num):\n",
    "       if (num % i) == 0:\n",
    "           print(num,\"is not a prime number\")\n",
    "           break\n",
    "   else:\n",
    "       print(num,\"is a prime number\")\n",
    "       \n",
    "# if input number is less than\n",
    "# or equal to 1, it is not prime\n",
    "else:\n",
    "   print(num,\"is not a prime number\")"
   ]
  },
  {
   "cell_type": "code",
   "execution_count": 8,
   "metadata": {
    "collapsed": false
   },
   "outputs": [
    {
     "data": {
      "text/plain": [
       "True"
      ]
     },
     "execution_count": 8,
     "metadata": {},
     "output_type": "execute_result"
    }
   ],
   "source": [
    "#assign 5\n",
    "#5. take a string from the user and check contains only digits or not?\n",
    "\"123\".isdigit()"
   ]
  },
  {
   "cell_type": "code",
   "execution_count": 9,
   "metadata": {
    "collapsed": false
   },
   "outputs": [
    {
     "data": {
      "text/plain": [
       "True"
      ]
     },
     "execution_count": 9,
     "metadata": {},
     "output_type": "execute_result"
    }
   ],
   "source": [
    "#assign 6\n",
    "#6. take a string from the user and check contains only  alphabets or not?\n",
    "\"ahjkkf\".isalpha()"
   ]
  },
  {
   "cell_type": "code",
   "execution_count": 7,
   "metadata": {
    "collapsed": false
   },
   "outputs": [
    {
     "data": {
      "text/plain": [
       "True"
      ]
     },
     "execution_count": 7,
     "metadata": {},
     "output_type": "execute_result"
    }
   ],
   "source": [
    "#assign 8\n",
    "#8. take a string from the user and check contains only  capiatl letters or not?\n",
    "\"ABC\".isupper()"
   ]
  },
  {
   "cell_type": "code",
   "execution_count": 50,
   "metadata": {
    "collapsed": false
   },
   "outputs": [
    {
     "data": {
      "text/plain": [
       "True"
      ]
     },
     "execution_count": 50,
     "metadata": {},
     "output_type": "execute_result"
    }
   ],
   "source": [
    "#assign 9\n",
    "#9. take a string from the user and check contains only  small letters or not?\n",
    "\"abc\".islower()"
   ]
  },
  {
   "cell_type": "code",
   "execution_count": 3,
   "metadata": {
    "collapsed": false
   },
   "outputs": [
    {
     "name": "stdout",
     "output_type": "stream",
     "text": [
      "program started\n",
      "Menu:\n",
      "1. Windows\n",
      "2. Linux\n",
      "3. Mac\n",
      "Enter an option: 4\n",
      "quit selected\n",
      "program ended\n"
     ]
    }
   ],
   "source": [
    "# assign 10\n",
    "#10. Show the below menu to the user until and until user select quit and display corresponding os message\n",
    "\n",
    "'''\n",
    "Menu:\n",
    "1. windows\n",
    "2. Linux\n",
    "3. Mac\n",
    "4. quit\n",
    "\n",
    "Menu:\n",
    "1. windows\n",
    "2. Linux\n",
    "3. Mac\n",
    "4. quit\n",
    "'''\n",
    "print \"program started\"\n",
    "print \"Menu:\\n1. Windows\\n2. Linux\\n3. Mac\"\n",
    "opt = raw_input(\"Enter an option: \")\n",
    "\n",
    "if opt == \"1\":\n",
    "    print \"windows selected\"\n",
    "if opt == \"2\":\n",
    "    print \"Linux selected\"\n",
    "if opt ==\"3\":\n",
    "    print \"Mac selected\"\n",
    "if opt ==\"4\":\n",
    "    print \"quit selected\"\n",
    "    \n",
    "\n",
    "print \"program ended\""
   ]
  },
  {
   "cell_type": "code",
   "execution_count": 58,
   "metadata": {
    "collapsed": false
   },
   "outputs": [
    {
     "name": "stdout",
     "output_type": "stream",
     "text": [
      "enter a string: ab12\n",
      "given string contains digits\n"
     ]
    }
   ],
   "source": [
    "# assign 11\n",
    "# 11. take a string from the user and check contains atleast one digit or not?\n",
    "s=raw_input(\"enter a string: \")\n",
    "for char in s:\n",
    "    if char.isdigit():\n",
    "        print \"given string contains digits\"\n",
    "        break"
   ]
  },
  {
   "cell_type": "code",
   "execution_count": 57,
   "metadata": {
    "collapsed": false
   },
   "outputs": [
    {
     "name": "stdout",
     "output_type": "stream",
     "text": [
      "enter a string: ab123\n",
      "given string contains alphabets\n"
     ]
    }
   ],
   "source": [
    "# assign 12\n",
    "# 12. take a string from the user and check contains atleast one alphabets or not?\n",
    "s=raw_input(\"enter a string: \")\n",
    "for char in s:\n",
    "    if char.isalpha():\n",
    "        print \"given string contains alphabets\"\n",
    "        break"
   ]
  },
  {
   "cell_type": "code",
   "execution_count": 53,
   "metadata": {
    "collapsed": false
   },
   "outputs": [
    {
     "name": "stdout",
     "output_type": "stream",
     "text": [
      "enter a string: PYTHon\n",
      "given string contains capital letters\n"
     ]
    }
   ],
   "source": [
    "# assign 14\n",
    "# 14. take a string from the user and check contains atleast one capital letter or not?\n",
    "s=raw_input(\"enter a string: \")\n",
    "for char in s:\n",
    "    if char.isupper():\n",
    "        print \"given string contains capital letters\"\n",
    "        break"
   ]
  },
  {
   "cell_type": "code",
   "execution_count": 54,
   "metadata": {
    "collapsed": false
   },
   "outputs": [
    {
     "name": "stdout",
     "output_type": "stream",
     "text": [
      "enter a string: python\n",
      "given string contains small letters\n"
     ]
    }
   ],
   "source": [
    "# assign 15\n",
    "# 15. take a string from the user and check contains atleast one small letter or not?\n",
    "s=raw_input(\"enter a string: \")\n",
    "for char in s:\n",
    "    if char.islower():\n",
    "        print \"given string contains small letters\"\n",
    "        break"
   ]
  },
  {
   "cell_type": "code",
   "execution_count": 10,
   "metadata": {
    "collapsed": false
   },
   "outputs": [
    {
     "name": "stdout",
     "output_type": "stream",
     "text": [
      "Enter a number: 256\n",
      "('The factors of', 256, 'are:')\n",
      "1\n",
      "2\n",
      "4\n",
      "8\n",
      "16\n",
      "32\n",
      "64\n",
      "128\n",
      "256\n"
     ]
    }
   ],
   "source": [
    "#assign 18\n",
    "#18. Determine the factors of a number entered  by the user\n",
    "def find_factors(x):\n",
    "   # This function takes a number and prints the factors\n",
    "\n",
    "   print(\"The factors of\",x,\"are:\")\n",
    "   for i in range(1, x + 1):\n",
    "       if x % i == 0:\n",
    "           print(i)\n",
    "\n",
    "num = int(input(\"Enter a number: \"))\n",
    "\n",
    "find_factors(num)"
   ]
  },
  {
   "cell_type": "code",
   "execution_count": 11,
   "metadata": {
    "collapsed": false
   },
   "outputs": [
    {
     "name": "stdout",
     "output_type": "stream",
     "text": [
      "Enter your first number, any number:  14\n",
      "You entered:  14.0\n",
      "Enter your second number, any number:  16\n",
      "You entered:  16.0\n",
      "The larger of the two numbers is: 16.0 \n"
     ]
    }
   ],
   "source": [
    "#assign 23\n",
    "#23. Write a program to findout big of two numbers\n",
    "def max(numOne, numTwo):\n",
    "    if numOne>numTwo:\n",
    "        return numOne;\n",
    "    else:\n",
    "        return numTwo;\n",
    "\n",
    "numOne = float(input(\"Enter your first number, any number:  \"))\n",
    "print(\"You entered:  {}\".format(numOne))\n",
    "numTwo = float(input(\"Enter your second number, any number:  \"))\n",
    "print(\"You entered:  {}\".format(numTwo))\n",
    "\n",
    "print(\"The larger of the two numbers is: {} \".format(max(numOne,numTwo)))"
   ]
  },
  {
   "cell_type": "code",
   "execution_count": 12,
   "metadata": {
    "collapsed": false
   },
   "outputs": [
    {
     "name": "stdout",
     "output_type": "stream",
     "text": [
      "99\n"
     ]
    }
   ],
   "source": [
    "# assign 24\n",
    "#24. Write a program to findout biggest number in the given numbers.\n",
    "numList=[16,19,42,43,74,66,99]\n",
    "\n",
    "max = numList[0]\n",
    "\n",
    "for num2 in numList:\n",
    "\n",
    "    if num2 > max:\n",
    "\n",
    "        max=num2\n",
    "\n",
    "print(max)"
   ]
  },
  {
   "cell_type": "code",
   "execution_count": 42,
   "metadata": {
    "collapsed": true
   },
   "outputs": [],
   "source": [
    "# assign 32\n",
    "# 32. l=[10,20,30,[40,50,60],70,[80,90,20]]. Convert this list as sigle dimentiona list\n",
    "l=[10,20,30,[40,50,60],70,[80,90,20]]"
   ]
  },
  {
   "cell_type": "code",
   "execution_count": 43,
   "metadata": {
    "collapsed": false
   },
   "outputs": [
    {
     "data": {
      "text/plain": [
       "[80, 90, 20]"
      ]
     },
     "execution_count": 43,
     "metadata": {},
     "output_type": "execute_result"
    }
   ],
   "source": [
    "l.pop()"
   ]
  },
  {
   "cell_type": "code",
   "execution_count": 44,
   "metadata": {
    "collapsed": false
   },
   "outputs": [
    {
     "data": {
      "text/plain": [
       "[40, 50, 60]"
      ]
     },
     "execution_count": 44,
     "metadata": {},
     "output_type": "execute_result"
    }
   ],
   "source": [
    "l.pop(3)"
   ]
  },
  {
   "cell_type": "code",
   "execution_count": 45,
   "metadata": {
    "collapsed": false
   },
   "outputs": [
    {
     "data": {
      "text/plain": [
       "[10, 20, 30, 70]"
      ]
     },
     "execution_count": 45,
     "metadata": {},
     "output_type": "execute_result"
    }
   ],
   "source": [
    "l"
   ]
  },
  {
   "cell_type": "code",
   "execution_count": 13,
   "metadata": {
    "collapsed": true
   },
   "outputs": [],
   "source": [
    "#assign 35\n",
    "#35. l=[1,2,3] just make it as a string.\n",
    "l=[1,2,3]\n",
    "f=open('l1.txt','w')\n",
    "f.write(str(l))\n",
    "f.close()"
   ]
  },
  {
   "cell_type": "code",
   "execution_count": 14,
   "metadata": {
    "collapsed": false
   },
   "outputs": [
    {
     "name": "stdout",
     "output_type": "stream",
     "text": [
      "<type 'str'>\n"
     ]
    }
   ],
   "source": [
    "f=open('l1.txt')\n",
    "data = f.read()\n",
    "print type(data)"
   ]
  },
  {
   "cell_type": "code",
   "execution_count": 46,
   "metadata": {
    "collapsed": true
   },
   "outputs": [],
   "source": [
    "# assign 36\n",
    "# 36. l=[1,2,3,[4,5,6],7,[8,9,10]] for single dimentional list\n",
    "l=[1,2,3,[4,5,6],7,[8,9,10]] "
   ]
  },
  {
   "cell_type": "code",
   "execution_count": 47,
   "metadata": {
    "collapsed": false
   },
   "outputs": [
    {
     "data": {
      "text/plain": [
       "[8, 9, 10]"
      ]
     },
     "execution_count": 47,
     "metadata": {},
     "output_type": "execute_result"
    }
   ],
   "source": [
    "l.pop()"
   ]
  },
  {
   "cell_type": "code",
   "execution_count": 48,
   "metadata": {
    "collapsed": false
   },
   "outputs": [
    {
     "data": {
      "text/plain": [
       "[4, 5, 6]"
      ]
     },
     "execution_count": 48,
     "metadata": {},
     "output_type": "execute_result"
    }
   ],
   "source": [
    "l.pop(3)"
   ]
  },
  {
   "cell_type": "code",
   "execution_count": 49,
   "metadata": {
    "collapsed": false
   },
   "outputs": [
    {
     "data": {
      "text/plain": [
       "[1, 2, 3, 7]"
      ]
     },
     "execution_count": 49,
     "metadata": {},
     "output_type": "execute_result"
    }
   ],
   "source": [
    "l"
   ]
  },
  {
   "cell_type": "code",
   "execution_count": 15,
   "metadata": {
    "collapsed": true
   },
   "outputs": [],
   "source": [
    "# assign 38\n",
    "#38. l=['a','A','b','B','d','D','c','C']  sort the list properly\n",
    "l=['a','A','b','B','d','D','c','C']  \n",
    "l.sort()"
   ]
  },
  {
   "cell_type": "code",
   "execution_count": 16,
   "metadata": {
    "collapsed": false
   },
   "outputs": [
    {
     "data": {
      "text/plain": [
       "['A', 'B', 'C', 'D', 'a', 'b', 'c', 'd']"
      ]
     },
     "execution_count": 16,
     "metadata": {},
     "output_type": "execute_result"
    }
   ],
   "source": [
    "l"
   ]
  },
  {
   "cell_type": "code",
   "execution_count": 17,
   "metadata": {
    "collapsed": true
   },
   "outputs": [],
   "source": [
    "l.sort(key= lambda x:x.upper())"
   ]
  },
  {
   "cell_type": "code",
   "execution_count": 18,
   "metadata": {
    "collapsed": false
   },
   "outputs": [
    {
     "data": {
      "text/plain": [
       "['A', 'a', 'B', 'b', 'C', 'c', 'D', 'd']"
      ]
     },
     "execution_count": 18,
     "metadata": {},
     "output_type": "execute_result"
    }
   ],
   "source": [
    "l"
   ]
  },
  {
   "cell_type": "code",
   "execution_count": 22,
   "metadata": {
    "collapsed": false
   },
   "outputs": [
    {
     "name": "stdout",
     "output_type": "stream",
     "text": [
      "[8, 9, 5, 6, 7]\n"
     ]
    }
   ],
   "source": [
    "# assign 40\n",
    "# 40. WAP to find union and intersection of lists.\n",
    "a = [0,1,2,0,1,2,3,4,5,6,7,8,9]\n",
    "b = [5,6,7,8,9,10,11,12,13,14]\n",
    "def intersect(a, b):\n",
    "    \"\"\" return the intersection of two lists \"\"\"\n",
    "    return list(set(a) & set(b))\n",
    "print intersect(a, b)"
   ]
  },
  {
   "cell_type": "code",
   "execution_count": 23,
   "metadata": {
    "collapsed": false
   },
   "outputs": [
    {
     "name": "stdout",
     "output_type": "stream",
     "text": [
      "[0, 1, 2, 3, 4, 5, 6, 7, 8, 9, 10, 11, 12, 13, 14]\n"
     ]
    }
   ],
   "source": [
    "def union(a, b):\n",
    "    \"\"\" return the union of two lists \"\"\"\n",
    "    return list(set(a) | set(b))\n",
    "print union(a, b)"
   ]
  },
  {
   "cell_type": "code",
   "execution_count": 24,
   "metadata": {
    "collapsed": false
   },
   "outputs": [
    {
     "data": {
      "text/plain": [
       "[4, 5]"
      ]
     },
     "execution_count": 24,
     "metadata": {},
     "output_type": "execute_result"
    }
   ],
   "source": [
    "# assign 40\n",
    "# 40. WAP to find union and intersection of lists.\n",
    "b1 = [1,2,3,4,5,9,11,15]\n",
    "b2 = [4,5,6,7,8]\n",
    "b3 = [val for val in b1 if val in b2]\n",
    "b3"
   ]
  },
  {
   "cell_type": "code",
   "execution_count": 21,
   "metadata": {
    "collapsed": false
   },
   "outputs": [
    {
     "name": "stdout",
     "output_type": "stream",
     "text": [
      "[1, 2, 3, 4]\n"
     ]
    }
   ],
   "source": [
    "#assign 43\n",
    "#43. Remove duplicates from the list: a=[1,2,3,2,3,4,1,,3,4]\n",
    "a=[1,2,3,2,3,4,1,3,4]\n",
    "def unique(a):\n",
    "    return list(set(a))\n",
    "print unique(a)"
   ]
  },
  {
   "cell_type": "code",
   "execution_count": 19,
   "metadata": {
    "collapsed": false
   },
   "outputs": [
    {
     "name": "stdout",
     "output_type": "stream",
     "text": [
      "['1', '2', '3', '1', '2', '3']\n"
     ]
    }
   ],
   "source": [
    "# assign 44\n",
    "#44. l=['1','2','3'] get the sum of the list\n",
    "l=['1','2','3'] \n",
    "print l+l"
   ]
  },
  {
   "cell_type": "code",
   "execution_count": 20,
   "metadata": {
    "collapsed": false
   },
   "outputs": [
    {
     "name": "stdout",
     "output_type": "stream",
     "text": [
      "[1, 2, 3, 4, 5, 6, 7, 8]\n"
     ]
    }
   ],
   "source": [
    "#assign 45\n",
    "# 45. l1=[1,2,3,4] l2=[5,6,7,8] sum of two lists\n",
    "l1=[1,2,3,4] \n",
    "l2=[5,6,7,8] \n",
    "print l1+l2"
   ]
  },
  {
   "cell_type": "code",
   "execution_count": 41,
   "metadata": {
    "collapsed": false
   },
   "outputs": [
    {
     "data": {
      "text/plain": [
       "['odd', 'even', 'odd', 'even', 'odd', 'even', 'even', 'even']"
      ]
     },
     "execution_count": 41,
     "metadata": {},
     "output_type": "execute_result"
    }
   ],
   "source": [
    "#assign 49\n",
    "# 49. input = 1,2,3,4,5,6,8,10 output = odd,even,odd,even,odd,even,even,even\n",
    "a =[1,2,3,4,5,6,8,10]\n",
    "['even' if i%2 ==0 else 'odd' for i in a]"
   ]
  },
  {
   "cell_type": "code",
   "execution_count": null,
   "metadata": {
    "collapsed": true
   },
   "outputs": [],
   "source": []
  }
 ],
 "metadata": {
  "anaconda-cloud": {},
  "kernelspec": {
   "display_name": "Python [default]",
   "language": "python",
   "name": "python2"
  },
  "language_info": {
   "codemirror_mode": {
    "name": "ipython",
    "version": 2
   },
   "file_extension": ".py",
   "mimetype": "text/x-python",
   "name": "python",
   "nbconvert_exporter": "python",
   "pygments_lexer": "ipython2",
   "version": "2.7.12"
  }
 },
 "nbformat": 4,
 "nbformat_minor": 1
}
